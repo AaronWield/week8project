{
 "cells": [
  {
   "cell_type": "markdown",
   "metadata": {},
   "source": [
    "# AirBnB NY Locations Data Case Study\n",
    "\n",
    "In this final project, you task will be to take the data provided and find evidence to answer the following questions.\n",
    "\n",
    "1. Which hosts are the busiest and why?\n",
    "2. How many neighborhood groups are available and which shows up the most?\n",
    "3. Are private rooms the most popular in Manhattan?\n",
    "4. Which hosts are the busiest and based on their reviews?\n",
    "5. Which neighorhood group has the highest average price?\n",
    "6. Which neighborhood group has the highest total price?\n",
    "7. Which top 5 hosts have the highest total price?\n",
    "8. Who currently has no (zero) availability with a review count of 100 or more?\n",
    "9. What host has the highest total of prices and where are they located?\n",
    "10. When did Danielle from Queens last receive a review?\n",
    "\n",
    "\n",
    "This is to simulate what you will face when you are out in the wild. \n",
    "\n",
    "Happy Coding!"
   ]
  },
  {
   "cell_type": "code",
   "execution_count": 1,
   "metadata": {},
   "outputs": [],
   "source": [
    "import numpy as np\n",
    "import pandas as pd\n",
    "import matplotlib.pyplot as plt"
   ]
  },
  {
   "cell_type": "code",
   "execution_count": 267,
   "metadata": {},
   "outputs": [],
   "source": [
    "air_bnb = pd.read_csv('../files/AB_NYC_2019.csv')"
   ]
  },
  {
   "cell_type": "code",
   "execution_count": 270,
   "metadata": {},
   "outputs": [
    {
     "name": "stdout",
     "output_type": "stream",
     "text": [
      "['Brooklyn' 'Manhattan' 'Queens' 'Staten Island' 'Bronx']\n",
      "\n",
      "5 neighbourhood groups available\n",
      "\n",
      "\n",
      "  neighbourhood_group     id\n",
      "0               Bronx   1091\n",
      "1            Brooklyn  20104\n",
      "2           Manhattan  21661\n",
      "3              Queens   5666\n",
      "4       Staten Island    373\n",
      "\n",
      "Manhattan shows up 21661 times\n"
     ]
    }
   ],
   "source": [
    "# How many neighborhood groups are available and which shows up the most?\n",
    "print(air_bnb.neighbourhood_group.unique())\n",
    "print('\\n5 neighbourhood groups available')\n",
    "print('\\n')\n",
    "print(air_bnb.groupby('neighbourhood_group', as_index=False).count()[['neighbourhood_group', 'id']])\n",
    "print('\\nManhattan shows up 21661 times')\n",
    "\n"
   ]
  },
  {
   "cell_type": "code",
   "execution_count": 265,
   "metadata": {},
   "outputs": [
    {
     "name": "stdout",
     "output_type": "stream",
     "text": [
      "room_type\n",
      "Entire home/apt    13199\n",
      "Private room        7982\n",
      "Shared room          480\n",
      "Name: id, dtype: int64\n",
      "\n",
      "In Manhattan, entire home/apt has over 5000 more listings than private rooms\n"
     ]
    }
   ],
   "source": [
    "# Are private rooms the most popular in manhattan?\n",
    "\n",
    "print(air_bnb[air_bnb['neighbourhood_group'] == 'Manhattan'].groupby('room_type').count()['id'])\n",
    "print('\\nIn Manhattan, entire home/apt has over 5000 more listings than private rooms')\n"
   ]
  },
  {
   "cell_type": "code",
   "execution_count": 264,
   "metadata": {},
   "outputs": [
    {
     "name": "stdout",
     "output_type": "stream",
     "text": [
      "                        reviews_per_month\n",
      "host_id   host_name                      \n",
      "219517861 Sonder (NYC)             397.56\n",
      "244361589 Row NYC                  111.72\n",
      "232251881 Lakshmee                  80.63\n",
      "26432133  Danielle                  68.02\n",
      "137274917 David                     62.89\n",
      "\n",
      "Sonder (NYC) has the most reviews per month\n"
     ]
    }
   ],
   "source": [
    "# Which hosts are the busiest based on their reviews?\n",
    "\n",
    "mostReviews = air_bnb.groupby(['host_id', 'host_name']).sum()[['reviews_per_month']]\n",
    "print(mostReviews.sort_values('reviews_per_month', ascending=False).head()\n",
    ")\n",
    "print('\\nSonder (NYC) has the most reviews per month')\n",
    "\n"
   ]
  },
  {
   "cell_type": "code",
   "execution_count": 144,
   "metadata": {},
   "outputs": [
    {
     "name": "stdout",
     "output_type": "stream",
     "text": [
      "neighbourhood_group\n",
      "Manhattan        196.875814\n",
      "Brooklyn         124.383207\n",
      "Staten Island    114.812332\n",
      "Queens            99.517649\n",
      "Bronx             87.496792\n",
      "Name: price, dtype: float64\n",
      "\n",
      "Manhattan has the highest average price\n"
     ]
    }
   ],
   "source": [
    "#Which neighorhood group has the highest average price?\n",
    "highestAvgPrice = air_bnb.groupby('neighbourhood_group').mean()\n",
    "highestAvgPrice = highestAvgPrice.sort_values('price', ascending=False)\n",
    "print(highestAvgPrice['price'])\n",
    "print('\\nManhattan has the highest average price')"
   ]
  },
  {
   "cell_type": "code",
   "execution_count": 146,
   "metadata": {},
   "outputs": [
    {
     "name": "stdout",
     "output_type": "stream",
     "text": [
      "neighbourhood_group\n",
      "Manhattan        4264527\n",
      "Brooklyn         2500600\n",
      "Queens            563867\n",
      "Bronx              95459\n",
      "Staten Island      42825\n",
      "Name: price, dtype: int64\n",
      "\n",
      "Manhattan has the highest total price\n"
     ]
    }
   ],
   "source": [
    "# Which neighborhood group has the highest total price?\n",
    "totalPrice = air_bnb.groupby('neighbourhood_group').sum()\n",
    "totalPrice = totalPrice.sort_values('price', ascending=False)\n",
    "print(totalPrice['price'])\n",
    "print('\\nManhattan has the highest total price')"
   ]
  },
  {
   "cell_type": "code",
   "execution_count": 158,
   "metadata": {},
   "outputs": [
    {
     "data": {
      "text/plain": [
       "host_id    host_name   \n",
       "219517861  Sonder (NYC)    82795\n",
       "107434423  Blueground      70331\n",
       "156158778  Sally           37097\n",
       "205031545  Red Awning      35294\n",
       "30283594   Kara            33581\n",
       "Name: price, dtype: int64"
      ]
     },
     "execution_count": 158,
     "metadata": {},
     "output_type": "execute_result"
    }
   ],
   "source": [
    "#Which top 5 hosts have the highest total price?\n",
    "topHosts = air_bnb.groupby(['host_id', 'host_name']).sum()\n",
    "topHosts = topHosts.sort_values('price', ascending = False)\n",
    "topHosts['price'].head()\n"
   ]
  },
  {
   "cell_type": "code",
   "execution_count": 271,
   "metadata": {},
   "outputs": [
    {
     "name": "stdout",
     "output_type": "stream",
     "text": [
      "                      number_of_reviews  availability_365\n",
      "host_id   host_name                                      \n",
      "7490      MaryEllen                 118                 0\n",
      "36897     Lydia                     107                 0\n",
      "79402     Christiana                168                 0\n",
      "129352    Sol                       193                 0\n",
      "193722    Coral                     114                 0\n",
      "...                                 ...               ...\n",
      "143944704 Ash                       104                 0\n",
      "155125855 Vicente                   125                 0\n",
      "176185168 Janet                     119                 0\n",
      "187487947 Diego                     164                 0\n",
      "209549523 Mariluz                   241                 0\n",
      "\n",
      "[135 rows x 2 columns]\n",
      "\n",
      "135 hosts with 100+ reviews have no availability\n"
     ]
    }
   ],
   "source": [
    "# Who currently has no (zero) availability with a review count of 100 or more?\n",
    "\n",
    "noAvail = air_bnb[['host_id', 'host_name', 'number_of_reviews', 'availability_365']]\n",
    "noAvail = noAvail.groupby(['host_id', 'host_name']).sum()\n",
    "noAvail = noAvail[(noAvail['availability_365'] == 0) & (noAvail['number_of_reviews'] >= 100)]\n",
    "print(noAvail )\n",
    "print('\\n135 hosts with 100+ reviews have no availability')\n"
   ]
  },
  {
   "cell_type": "code",
   "execution_count": 236,
   "metadata": {},
   "outputs": [
    {
     "name": "stdout",
     "output_type": "stream",
     "text": [
      "                                  price\n",
      "host_name    neighbourhood_group       \n",
      "Sonder (NYC) Manhattan            82795\n",
      "\n",
      "Sonder(NYC) has the highest total price and is located in Manhattan.\n"
     ]
    }
   ],
   "source": [
    "# What host has the highest total of prices and where are they located?\n",
    "hostTotal = air_bnb.groupby(['host_name','neighbourhood_group'])[['price']].sum()\n",
    "print(hostTotal.sort_values('price', ascending = False).head(1))\n",
    "print('\\nSonder(NYC) has the highest total price and is located in Manhattan.')\n"
   ]
  },
  {
   "cell_type": "code",
   "execution_count": 263,
   "metadata": {},
   "outputs": [
    {
     "name": "stdout",
     "output_type": "stream",
     "text": [
      "      host_name last_review\n",
      "22469  Danielle  2019-07-08\n",
      "21517  Danielle  2019-07-07\n",
      "20403  Danielle  2019-07-06\n",
      "22068  Danielle  2019-07-06\n",
      "7086   Danielle  2019-07-03\n",
      "\n",
      "Last review is from 2019-07-08\n"
     ]
    }
   ],
   "source": [
    "# When did Danielle from Queens last receive a review?\n",
    "danielle = air_bnb[(air_bnb['host_name'] == 'Danielle') & (air_bnb['neighbourhood_group'] == 'Queens')]\n",
    "danielle = danielle.sort_values('last_review', ascending = False)\n",
    "danielle = danielle[['host_name', 'last_review']]\n",
    "print(danielle.head())\n",
    "print('\\nLast review is from 2019-07-08')"
   ]
  },
  {
   "cell_type": "markdown",
   "metadata": {},
   "source": [
    "## Further Questions\n",
    "\n",
    "1. Which host has the most listings?"
   ]
  },
  {
   "cell_type": "code",
   "execution_count": 346,
   "metadata": {},
   "outputs": [
    {
     "data": {
      "text/plain": [
       "host_id    host_name   \n",
       "219517861  Sonder (NYC)    327\n",
       "Name: id, dtype: int64"
      ]
     },
     "execution_count": 346,
     "metadata": {},
     "output_type": "execute_result"
    }
   ],
   "source": [
    "mostListings = air_bnb.groupby(['host_id','host_name']).count()\n",
    "mostListings = mostListings.sort_values('id', ascending = False)['id'].head(1)\n",
    "mostListings\n",
    "\n",
    "\n"
   ]
  },
  {
   "cell_type": "markdown",
   "metadata": {},
   "source": [
    "2. How many listings have completely open availability?"
   ]
  },
  {
   "cell_type": "code",
   "execution_count": 349,
   "metadata": {},
   "outputs": [
    {
     "data": {
      "text/plain": [
       "id                  1295\n",
       "availability_365    1295\n",
       "dtype: int64"
      ]
     },
     "execution_count": 349,
     "metadata": {},
     "output_type": "execute_result"
    }
   ],
   "source": [
    "completelyOpen = air_bnb[['id','availability_365']]\n",
    "completelyOpen[completelyOpen['availability_365'] == 365].count()\n"
   ]
  },
  {
   "cell_type": "markdown",
   "metadata": {},
   "source": [
    "3. What room_types have the highest review numbers?"
   ]
  },
  {
   "cell_type": "code",
   "execution_count": 357,
   "metadata": {},
   "outputs": [
    {
     "name": "stdout",
     "output_type": "stream",
     "text": [
      "room_type\n",
      "Entire home/apt    580403\n",
      "Private room       538346\n",
      "Shared room         19256\n",
      "Name: number_of_reviews, dtype: int64\n"
     ]
    },
    {
     "data": {
      "text/plain": [
       "room_type\n",
       "Entire home/apt    580403\n",
       "Name: number_of_reviews, dtype: int64"
      ]
     },
     "execution_count": 357,
     "metadata": {},
     "output_type": "execute_result"
    }
   ],
   "source": [
    "print(air_bnb.groupby('room_type')['number_of_reviews'].sum())\n",
    "air_bnb.groupby('room_type')['number_of_reviews'].sum().head(1)\n"
   ]
  },
  {
   "cell_type": "markdown",
   "metadata": {},
   "source": [
    "# Final Conclusion\n",
    "\n",
    "In this cell, write your final conclusion for each of the questions asked.\n",
    "\n",
    "Also, if you uncovered some more details that were not asked above, please describe them here.\n",
    "\n",
    "-- Add your conclusion --"
   ]
  },
  {
   "cell_type": "code",
   "execution_count": null,
   "metadata": {},
   "outputs": [],
   "source": []
  }
 ],
 "metadata": {
  "kernelspec": {
   "display_name": "Python 3",
   "language": "python",
   "name": "python3"
  },
  "language_info": {
   "codemirror_mode": {
    "name": "ipython",
    "version": 3
   },
   "file_extension": ".py",
   "mimetype": "text/x-python",
   "name": "python",
   "nbconvert_exporter": "python",
   "pygments_lexer": "ipython3",
   "version": "3.8.8"
  }
 },
 "nbformat": 4,
 "nbformat_minor": 2
}
